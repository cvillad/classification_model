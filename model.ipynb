{
 "cells": [
  {
   "cell_type": "code",
   "execution_count": 23,
   "metadata": {},
   "outputs": [
    {
     "name": "stdout",
     "output_type": "stream",
     "text": [
      "Requirement already satisfied: fastai in /Users/cvillad/miniconda3/envs/store/lib/python3.8/site-packages (2.0.8)\n",
      "Requirement already satisfied: pandas in /Users/cvillad/miniconda3/envs/store/lib/python3.8/site-packages (from fastai) (1.1.1)\n",
      "Requirement already satisfied: scipy in /Users/cvillad/miniconda3/envs/store/lib/python3.8/site-packages (from fastai) (1.5.2)\n",
      "Requirement already satisfied: pip in /Users/cvillad/miniconda3/envs/store/lib/python3.8/site-packages (from fastai) (20.2.3)\n",
      "Requirement already satisfied: pillow in /Users/cvillad/miniconda3/envs/store/lib/python3.8/site-packages (from fastai) (7.2.0)\n",
      "Requirement already satisfied: requests in /Users/cvillad/miniconda3/envs/store/lib/python3.8/site-packages (from fastai) (2.24.0)\n",
      "Requirement already satisfied: torch>=1.6.0 in /Users/cvillad/miniconda3/envs/store/lib/python3.8/site-packages (from fastai) (1.6.0)\n",
      "Requirement already satisfied: fastprogress>=0.2.4 in /Users/cvillad/miniconda3/envs/store/lib/python3.8/site-packages (from fastai) (1.0.0)\n",
      "Requirement already satisfied: fastcore>=1.0.1 in /Users/cvillad/miniconda3/envs/store/lib/python3.8/site-packages (from fastai) (1.0.1)\n",
      "Requirement already satisfied: torchvision>=0.7 in /Users/cvillad/miniconda3/envs/store/lib/python3.8/site-packages (from fastai) (0.7.0)\n",
      "Requirement already satisfied: packaging in /Users/cvillad/miniconda3/envs/store/lib/python3.8/site-packages (from fastai) (20.4)\n",
      "Requirement already satisfied: spacy in /Users/cvillad/miniconda3/envs/store/lib/python3.8/site-packages (from fastai) (2.3.2)\n",
      "Requirement already satisfied: pyyaml in /Users/cvillad/.local/lib/python3.8/site-packages (from fastai) (5.3.1)\n",
      "Requirement already satisfied: matplotlib in /Users/cvillad/miniconda3/envs/store/lib/python3.8/site-packages (from fastai) (3.3.2)\n",
      "Requirement already satisfied: scikit-learn in /Users/cvillad/miniconda3/envs/store/lib/python3.8/site-packages (from fastai) (0.23.2)\n",
      "Requirement already satisfied: python-dateutil>=2.7.3 in /Users/cvillad/miniconda3/envs/store/lib/python3.8/site-packages (from pandas->fastai) (2.8.1)\n",
      "Requirement already satisfied: numpy>=1.15.4 in /Users/cvillad/miniconda3/envs/store/lib/python3.8/site-packages (from pandas->fastai) (1.19.2)\n",
      "Requirement already satisfied: pytz>=2017.2 in /Users/cvillad/miniconda3/envs/store/lib/python3.8/site-packages (from pandas->fastai) (2020.1)\n",
      "Requirement already satisfied: urllib3!=1.25.0,!=1.25.1,<1.26,>=1.21.1 in /Users/cvillad/miniconda3/envs/store/lib/python3.8/site-packages (from requests->fastai) (1.25.10)\n",
      "Requirement already satisfied: certifi>=2017.4.17 in /Users/cvillad/miniconda3/envs/store/lib/python3.8/site-packages (from requests->fastai) (2020.6.20)\n",
      "Requirement already satisfied: idna<3,>=2.5 in /Users/cvillad/miniconda3/envs/store/lib/python3.8/site-packages (from requests->fastai) (2.10)\n",
      "Requirement already satisfied: chardet<4,>=3.0.2 in /Users/cvillad/miniconda3/envs/store/lib/python3.8/site-packages (from requests->fastai) (3.0.4)\n",
      "Requirement already satisfied: future in /Users/cvillad/miniconda3/envs/store/lib/python3.8/site-packages (from torch>=1.6.0->fastai) (0.18.2)\n",
      "Requirement already satisfied: dataclasses in /Users/cvillad/miniconda3/envs/store/lib/python3.8/site-packages (from fastcore>=1.0.1->fastai) (0.6)\n",
      "Requirement already satisfied: wheel in /Users/cvillad/miniconda3/envs/store/lib/python3.8/site-packages (from fastcore>=1.0.1->fastai) (0.35.1)\n",
      "Requirement already satisfied: six in /Users/cvillad/miniconda3/envs/store/lib/python3.8/site-packages (from packaging->fastai) (1.15.0)\n",
      "Requirement already satisfied: pyparsing>=2.0.2 in /Users/cvillad/miniconda3/envs/store/lib/python3.8/site-packages (from packaging->fastai) (2.4.7)\n",
      "Requirement already satisfied: murmurhash<1.1.0,>=0.28.0 in /Users/cvillad/miniconda3/envs/store/lib/python3.8/site-packages (from spacy->fastai) (1.0.2)\n",
      "Requirement already satisfied: blis<0.5.0,>=0.4.0 in /Users/cvillad/miniconda3/envs/store/lib/python3.8/site-packages (from spacy->fastai) (0.4.1)\n",
      "Requirement already satisfied: thinc==7.4.1 in /Users/cvillad/miniconda3/envs/store/lib/python3.8/site-packages (from spacy->fastai) (7.4.1)\n",
      "Requirement already satisfied: setuptools in /Users/cvillad/miniconda3/envs/store/lib/python3.8/site-packages (from spacy->fastai) (49.6.0.post20200814)\n",
      "Requirement already satisfied: cymem<2.1.0,>=2.0.2 in /Users/cvillad/miniconda3/envs/store/lib/python3.8/site-packages (from spacy->fastai) (2.0.3)\n",
      "Requirement already satisfied: plac<1.2.0,>=0.9.6 in /Users/cvillad/miniconda3/envs/store/lib/python3.8/site-packages (from spacy->fastai) (1.1.3)\n",
      "Requirement already satisfied: wasabi<1.1.0,>=0.4.0 in /Users/cvillad/miniconda3/envs/store/lib/python3.8/site-packages (from spacy->fastai) (0.8.0)\n",
      "Requirement already satisfied: catalogue<1.1.0,>=0.0.7 in /Users/cvillad/miniconda3/envs/store/lib/python3.8/site-packages (from spacy->fastai) (1.0.0)\n",
      "Requirement already satisfied: preshed<3.1.0,>=3.0.2 in /Users/cvillad/miniconda3/envs/store/lib/python3.8/site-packages (from spacy->fastai) (3.0.2)\n",
      "Requirement already satisfied: srsly<1.1.0,>=1.0.2 in /Users/cvillad/miniconda3/envs/store/lib/python3.8/site-packages (from spacy->fastai) (1.0.2)\n",
      "Requirement already satisfied: tqdm<5.0.0,>=4.38.0 in /Users/cvillad/miniconda3/envs/store/lib/python3.8/site-packages (from spacy->fastai) (4.49.0)\n",
      "Requirement already satisfied: kiwisolver>=1.0.1 in /Users/cvillad/miniconda3/envs/store/lib/python3.8/site-packages (from matplotlib->fastai) (1.2.0)\n",
      "Requirement already satisfied: cycler>=0.10 in /Users/cvillad/miniconda3/envs/store/lib/python3.8/site-packages (from matplotlib->fastai) (0.10.0)\n",
      "Requirement already satisfied: threadpoolctl>=2.0.0 in /Users/cvillad/miniconda3/envs/store/lib/python3.8/site-packages (from scikit-learn->fastai) (2.1.0)\n",
      "Requirement already satisfied: joblib>=0.11 in /Users/cvillad/miniconda3/envs/store/lib/python3.8/site-packages (from scikit-learn->fastai) (0.16.0)\n",
      "Collecting imgaug\n",
      "  Downloading imgaug-0.4.0-py2.py3-none-any.whl (948 kB)\n",
      "\u001b[K     |████████████████████████████████| 948 kB 473 kB/s eta 0:00:01     |█████████████████████████▎      | 747 kB 473 kB/s eta 0:00:01\n",
      "\u001b[?25hRequirement already satisfied: scipy in /Users/cvillad/miniconda3/envs/store/lib/python3.8/site-packages (from imgaug) (1.5.2)\n",
      "Requirement already satisfied: opencv-python in /Users/cvillad/miniconda3/envs/store/lib/python3.8/site-packages (from imgaug) (4.4.0.42)\n",
      "Requirement already satisfied: matplotlib in /Users/cvillad/miniconda3/envs/store/lib/python3.8/site-packages (from imgaug) (3.3.2)\n",
      "Collecting imageio\n",
      "  Downloading imageio-2.9.0-py3-none-any.whl (3.3 MB)\n",
      "\u001b[K     |████████████████████████████████| 3.3 MB 3.9 MB/s eta 0:00:01     |██                              | 204 kB 3.9 MB/s eta 0:00:01     |██▋                             | 266 kB 3.9 MB/s eta 0:00:01\n",
      "\u001b[?25hCollecting Shapely\n",
      "  Downloading Shapely-1.7.1-cp38-cp38-macosx_10_9_x86_64.whl (1.0 MB)\n",
      "\u001b[K     |████████████████████████████████| 1.0 MB 1.3 MB/s eta 0:00:01\n",
      "\u001b[?25hRequirement already satisfied: numpy>=1.15 in /Users/cvillad/miniconda3/envs/store/lib/python3.8/site-packages (from imgaug) (1.19.2)\n",
      "Collecting scikit-image>=0.14.2\n",
      "  Downloading scikit_image-0.17.2-cp38-cp38-macosx_10_13_x86_64.whl (12.2 MB)\n",
      "\u001b[K     |████████████████████████████████| 12.2 MB 4.3 MB/s eta 0:00:01    |██▌                             | 931 kB 5.0 MB/s eta 0:00:03\n",
      "\u001b[?25hRequirement already satisfied: six in /Users/cvillad/miniconda3/envs/store/lib/python3.8/site-packages (from imgaug) (1.15.0)\n",
      "Requirement already satisfied: Pillow in /Users/cvillad/miniconda3/envs/store/lib/python3.8/site-packages (from imgaug) (7.2.0)\n",
      "Requirement already satisfied: kiwisolver>=1.0.1 in /Users/cvillad/miniconda3/envs/store/lib/python3.8/site-packages (from matplotlib->imgaug) (1.2.0)\n",
      "Requirement already satisfied: cycler>=0.10 in /Users/cvillad/miniconda3/envs/store/lib/python3.8/site-packages (from matplotlib->imgaug) (0.10.0)\n",
      "Requirement already satisfied: pyparsing!=2.0.4,!=2.1.2,!=2.1.6,>=2.0.3 in /Users/cvillad/miniconda3/envs/store/lib/python3.8/site-packages (from matplotlib->imgaug) (2.4.7)\n",
      "Requirement already satisfied: python-dateutil>=2.1 in /Users/cvillad/miniconda3/envs/store/lib/python3.8/site-packages (from matplotlib->imgaug) (2.8.1)\n"
     ]
    },
    {
     "name": "stdout",
     "output_type": "stream",
     "text": [
      "Requirement already satisfied: certifi>=2020.06.20 in /Users/cvillad/miniconda3/envs/store/lib/python3.8/site-packages (from matplotlib->imgaug) (2020.6.20)\n",
      "Collecting networkx>=2.0\n",
      "  Downloading networkx-2.5-py3-none-any.whl (1.6 MB)\n",
      "\u001b[K     |████████████████████████████████| 1.6 MB 8.3 MB/s eta 0:00:01     |████████▎                       | 419 kB 8.3 MB/s eta 0:00:01\n",
      "\u001b[?25hCollecting PyWavelets>=1.1.1\n",
      "  Downloading PyWavelets-1.1.1-cp38-cp38-macosx_10_9_x86_64.whl (4.3 MB)\n",
      "\u001b[K     |████████████████████████████████| 4.3 MB 5.7 MB/s eta 0:00:01\n",
      "\u001b[?25hCollecting tifffile>=2019.7.26\n",
      "  Downloading tifffile-2020.9.3-py3-none-any.whl (148 kB)\n",
      "\u001b[K     |████████████████████████████████| 148 kB 2.9 MB/s eta 0:00:01\n",
      "\u001b[?25hRequirement already satisfied: decorator>=4.3.0 in /Users/cvillad/miniconda3/envs/store/lib/python3.8/site-packages (from networkx>=2.0->scikit-image>=0.14.2->imgaug) (4.4.2)\n",
      "Installing collected packages: imageio, Shapely, networkx, PyWavelets, tifffile, scikit-image, imgaug\n",
      "Successfully installed PyWavelets-1.1.1 Shapely-1.7.1 imageio-2.9.0 imgaug-0.4.0 networkx-2.5 scikit-image-0.17.2 tifffile-2020.9.3\n"
     ]
    }
   ],
   "source": [
    "!pip install fastai\n",
    "!pip install imgaug"
   ]
  },
  {
   "cell_type": "code",
   "execution_count": 34,
   "metadata": {},
   "outputs": [],
   "source": [
    "import os\n",
    "import numpy as np\n",
    "from pathlib import Path\n",
    "from argparse import Namespace\n",
    "from fastai.vision import *\n",
    "\n",
    "args = Namespace(\n",
    "    root = \"/\".join(os.getcwd().split(\"/\")),\n",
    "    bucket_name = \"sagemaker-us-west-2-430127992102\",\n",
    "    key = \"TiendaApp\",\n",
    "    image_dir = \"fastai_data\",\n",
    "    data_dir = \"dataset\",\n",
    "    tar_file_name = \"fastai_data.tar.gz\",\n",
    "    model_dir = \"model\",\n",
    "    model_fastai_dir = \"fastai_model\",\n",
    "    tar_model_name = \"fastai_model.tar.gz\"\n",
    ")"
   ]
  },
  {
   "cell_type": "code",
   "execution_count": 38,
   "metadata": {},
   "outputs": [
    {
     "data": {
      "text/plain": [
       "['yogurt_alpina_finesse_fresax180g',\n",
       " 'coca_cola_originalx400ml',\n",
       " 'coca_cola_originalx250ml',\n",
       " 'arroz_basmati_castellanox1000g',\n",
       " 'chicharron_americano_jacksx15g',\n",
       " 'papas_limon_margaritax110g',\n",
       " 'arroz_vitamor_dianax500g',\n",
       " '.DS_Store',\n",
       " 'papas_limon_margaritax39g',\n",
       " 'mango_tommy',\n",
       " 'yogurt_alpina_finesse_fresax150g',\n",
       " 'papas_limon_margaritax105g',\n",
       " 'yogurt_alpina_finesse_frutos_rojosx180g',\n",
       " 'pan_mantequilla_la_fronterax55g',\n",
       " 'papas_limon_margarita_packeconomicox300g',\n",
       " 'maracuya',\n",
       " 'aguacate',\n",
       " 'yogurt_alpina_finesse_melocotonx180g',\n",
       " 'spagheti_barilla',\n",
       " 'arroz_blanco_carullax1000g',\n",
       " 'pan_de_queso_la_frontera']"
      ]
     },
     "execution_count": 38,
     "metadata": {},
     "output_type": "execute_result"
    }
   ],
   "source": [
    "data_path = Path(os.path.join(args.root, args.data_dir))\n",
    "os.listdir(data_path)"
   ]
  },
  {
   "cell_type": "code",
   "execution_count": 41,
   "metadata": {},
   "outputs": [
    {
     "ename": "NameError",
     "evalue": "name 'ImageDataBunch' is not defined",
     "output_type": "error",
     "traceback": [
      "\u001b[0;31m---------------------------------------------------------------------------\u001b[0m",
      "\u001b[0;31mNameError\u001b[0m                                 Traceback (most recent call last)",
      "\u001b[0;32m<ipython-input-41-c20800accc4a>\u001b[0m in \u001b[0;36m<module>\u001b[0;34m\u001b[0m\n\u001b[0;32m----> 1\u001b[0;31m data = ImageDataBunch.from_folder(path_img, train='.', valid_pct=0.2,ds_tfms=get_transforms(), \n\u001b[0m\u001b[1;32m      2\u001b[0m                                   size=224, num_workers=4, no_check=True).normalize(imagenet_stats)\n",
      "\u001b[0;31mNameError\u001b[0m: name 'ImageDataBunch' is not defined"
     ]
    }
   ],
   "source": [
    "data = ImageDataBunch.from_folder(path_img, train='.configconfig', valid_pct=0.2,ds_tfms=get_transforms(), \n",
    "                                  size=224, num_workers=4, no_check=True).normalize(imagenet_stats)"
   ]
  },
  {
   "cell_type": "code",
   "execution_count": 39,
   "metadata": {},
   "outputs": [
    {
     "ename": "NameError",
     "evalue": "name 'ImageDataBunch' is not defined",
     "output_type": "error",
     "traceback": [
      "\u001b[0;31m---------------------------------------------------------------------------\u001b[0m",
      "\u001b[0;31mNameError\u001b[0m                                 Traceback (most recent call last)",
      "\u001b[0;32m<ipython-input-39-7e0fb54298a8>\u001b[0m in \u001b[0;36m<module>\u001b[0;34m\u001b[0m\n\u001b[1;32m      1\u001b[0m \u001b[0mnp\u001b[0m\u001b[0;34m.\u001b[0m\u001b[0mrandom\u001b[0m\u001b[0;34m.\u001b[0m\u001b[0mseed\u001b[0m\u001b[0;34m(\u001b[0m\u001b[0;36m42\u001b[0m\u001b[0;34m)\u001b[0m\u001b[0;34m\u001b[0m\u001b[0;34m\u001b[0m\u001b[0m\n\u001b[0;32m----> 2\u001b[0;31m \u001b[0mdata\u001b[0m \u001b[0;34m=\u001b[0m \u001b[0mImageDataBunch\u001b[0m\u001b[0;34m.\u001b[0m\u001b[0mfrom_lists\u001b[0m\u001b[0;34m(\u001b[0m\u001b[0mdata_path\u001b[0m\u001b[0;34m,\u001b[0m \u001b[0mfnames\u001b[0m\u001b[0;34m,\u001b[0m \u001b[0mlabels\u001b[0m\u001b[0;34m,\u001b[0m \u001b[0mds_tfms\u001b[0m\u001b[0;34m=\u001b[0m\u001b[0;32mNone\u001b[0m\u001b[0;34m,\u001b[0m \u001b[0msize\u001b[0m\u001b[0;34m=\u001b[0m\u001b[0;36m224\u001b[0m\u001b[0;34m,\u001b[0m \u001b[0mbs\u001b[0m\u001b[0;34m=\u001b[0m\u001b[0mbs\u001b[0m\u001b[0;34m)\u001b[0m\u001b[0;34m\u001b[0m\u001b[0;34m\u001b[0m\u001b[0m\n\u001b[0m\u001b[1;32m      3\u001b[0m \u001b[0mdata\u001b[0m\u001b[0;34m.\u001b[0m\u001b[0mnormalize\u001b[0m\u001b[0;34m(\u001b[0m\u001b[0mimagenet_stats\u001b[0m\u001b[0;34m)\u001b[0m\u001b[0;34m\u001b[0m\u001b[0;34m\u001b[0m\u001b[0m\n\u001b[1;32m      4\u001b[0m \u001b[0mdata\u001b[0m\u001b[0;34m.\u001b[0m\u001b[0mshow_batch\u001b[0m\u001b[0;34m(\u001b[0m\u001b[0mrows\u001b[0m\u001b[0;34m=\u001b[0m\u001b[0;36m5\u001b[0m\u001b[0;34m,\u001b[0m \u001b[0mfigsize\u001b[0m\u001b[0;34m=\u001b[0m\u001b[0;34m(\u001b[0m\u001b[0;36m8\u001b[0m\u001b[0;34m,\u001b[0m\u001b[0;36m8\u001b[0m\u001b[0;34m)\u001b[0m\u001b[0;34m)\u001b[0m\u001b[0;34m\u001b[0m\u001b[0;34m\u001b[0m\u001b[0m\n",
      "\u001b[0;31mNameError\u001b[0m: name 'ImageDataBunch' is not defined"
     ]
    }
   ],
   "source": [
    "np.random.seed(42)\n",
    "data = ImageDataBunch.from_lists(data_path, fnames, labels, ds_tfms=None, size=224, bs=bs)\n",
    "data.normalize(imagenet_stats)\n",
    "data.show_batch(rows=5, figsize=(8,8))"
   ]
  }
 ],
 "metadata": {
  "kernelspec": {
   "display_name": "Python 3",
   "language": "python",
   "name": "python3"
  },
  "language_info": {
   "codemirror_mode": {
    "name": "ipython",
    "version": 3
   },
   "file_extension": ".py",
   "mimetype": "text/x-python",
   "name": "python",
   "nbconvert_exporter": "python",
   "pygments_lexer": "ipython3",
   "version": "3.8.5"
  }
 },
 "nbformat": 4,
 "nbformat_minor": 4
}
